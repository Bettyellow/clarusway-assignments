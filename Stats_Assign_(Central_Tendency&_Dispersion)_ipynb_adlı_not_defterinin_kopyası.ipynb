{
  "nbformat": 4,
  "nbformat_minor": 0,
  "metadata": {
    "colab": {
      "name": "Stats Assign. (Central Tendency& Dispersion).ipynb adlı not defterinin kopyası",
      "provenance": [],
      "collapsed_sections": []
    },
    "kernelspec": {
      "name": "python3",
      "display_name": "Python 3"
    }
  },
  "cells": [
    {
      "cell_type": "markdown",
      "metadata": {
        "id": "K7S4cEyZLTp7"
      },
      "source": [
        "## Descriptive Statistics"
      ]
    },
    {
      "cell_type": "code",
      "metadata": {
        "id": "CCZJzVnVT8bw"
      },
      "source": [
        ""
      ],
      "execution_count": null,
      "outputs": []
    },
    {
      "cell_type": "markdown",
      "metadata": {
        "id": "vZRYVyc8H7hi"
      },
      "source": [
        " Import **NumPy**, **SciPy**, and **Pandas**"
      ]
    },
    {
      "cell_type": "code",
      "metadata": {
        "id": "7ShN0klrHIk3"
      },
      "source": [
        "import numpy as np \n",
        "from scipy import stats\n",
        "import seaborn as sns "
      ],
      "execution_count": null,
      "outputs": []
    },
    {
      "cell_type": "markdown",
      "metadata": {
        "id": "_SaQURIqIA6d"
      },
      "source": [
        " Randomly generate 1,000 samples from the normal distribution using `np.random.normal()`(mean = 100, standard deviation = 15)"
      ]
    },
    {
      "cell_type": "code",
      "metadata": {
        "id": "Jyw_FMX0IRkm",
        "colab": {
          "base_uri": "https://localhost:8080/"
        },
        "outputId": "77c08325-1cfa-4f95-9ebc-9197906083b7"
      },
      "source": [
        "import numpy as np \n",
        "mean, sd = 100, 15\n",
        "samples = np.random.normal(mean, sd, 1000)\n",
        "print(np.random.normal(mean, sd, 1000))"
      ],
      "execution_count": null,
      "outputs": [
        {
          "output_type": "stream",
          "name": "stdout",
          "text": [
            "[105.66678503 107.9500956  124.5582754  106.0388593   96.11371546\n",
            " 129.8951236  113.16510315 111.77270848  85.17387991 100.59152168\n",
            " 108.10249052 126.22720264 108.49602903  90.87286319  91.88721153\n",
            "  93.12736738 102.12132283 126.19293865 103.58071315  80.43672513\n",
            " 125.61661307  83.64422938  79.79456495  91.74228866 101.9391765\n",
            " 112.38747876  93.81513319  80.82890038  98.38003782 115.56422127\n",
            " 112.93931555 118.87165345  81.39034535  81.77291341  78.94643432\n",
            " 130.29607871  99.08682048  90.28663344  85.6565436  117.19455749\n",
            " 119.53409824  79.39750527 133.98493719 128.30407364  98.60869438\n",
            "  95.16801669 108.16247673 112.59309167 109.16028418 142.88738123\n",
            " 110.85066481  98.21306201 106.61434866 103.17117118  94.57700948\n",
            "  92.63305229  82.66888265  86.63089401  78.18103749  75.49210656\n",
            "  84.96915196 100.99328944 122.47943042  64.37970653 104.51843028\n",
            " 116.82256314 106.65204058  99.66240692  68.18115066  78.88890093\n",
            " 108.40526404  85.49836947 114.39887396 103.07126021  88.96485001\n",
            " 115.25040564  90.96811514  97.14649086  91.63224305  93.90150441\n",
            "  79.36385093  88.92641903  72.91665437 106.90503394  77.77159511\n",
            "  78.12439709 108.59854336 112.43938524  94.9201397  113.43268\n",
            " 103.08682519  90.47695822  94.47309663 108.00743116  93.89315521\n",
            " 120.19062907 117.58048745 108.95754173 106.92723509  94.30972901\n",
            " 109.82519383 109.16347052 130.979732   106.96374937 106.75666056\n",
            " 104.33646105 112.44148132 104.09809607  77.35913243  98.92943663\n",
            "  91.47556328 114.34831917 107.78829988  80.73346931 110.4283262\n",
            " 107.73306504  85.81128537  92.81851288 114.66119934  84.64077465\n",
            " 103.97979153  94.94711233  86.93380896  94.35028378 115.25351979\n",
            "  86.9441601   98.078164    98.98182648 110.72796107  83.58247332\n",
            " 117.56489473 116.48779666  80.16485732  88.94960801  93.05595308\n",
            "  71.66880839  96.07836914  90.04208268 101.65643748  95.93654575\n",
            "  86.60996338 120.7639269   97.4978129  121.42974192  74.03070658\n",
            " 103.17765674  98.97568582 105.71521421 106.00861689 119.36396841\n",
            "  99.835906    95.2333086   95.09284279 104.05460162 111.65058477\n",
            " 103.36517906 107.91886662 128.06203186 116.62745433 142.56226617\n",
            "  71.42600066  69.21446823  99.50872617 111.73008816 117.15047287\n",
            " 128.26219217 114.1508115   95.43502602  65.11377576  71.26294579\n",
            "  76.13744856 120.49126976 103.64057292  98.44947539  96.90059455\n",
            " 115.77102863  83.51454117  91.08590581 122.76774676  77.38362452\n",
            " 111.66665485  88.07750394 111.75699539  96.33774672 109.40185221\n",
            "  93.73627179 112.47248384 102.85017618  91.84454361  88.89922164\n",
            "  95.45717062 124.26054654  79.0399079  117.37836522  97.93617063\n",
            "  86.60044347  82.30035689  97.13321595 121.58951431  89.55829097\n",
            " 115.63148697  89.12332937  97.92826031 113.67500136 115.87259244\n",
            " 102.55884647  74.08980105 102.9924852   98.18406127  95.61582734\n",
            "  88.76355747 108.30773478 114.67755898 115.92677595  98.19201299\n",
            "  84.27534481 101.11970494 111.03370728  99.18510875 123.16489472\n",
            " 136.10909858 106.32409432 108.88550321  78.88598758  79.95405117\n",
            " 110.82419718 107.7551818  102.62248444  81.25001516  90.81031628\n",
            " 106.71508149 103.68473112 109.70080798 119.91019404 100.92313455\n",
            "  84.87938243 103.34592251  88.99470159 111.17032376 117.41508946\n",
            " 111.11704481 112.72428187  99.82025245 104.25639941  84.91132754\n",
            "  91.79003514  95.90128911 114.87432852 115.77790413 116.24313586\n",
            " 109.84455008 120.55939034 123.05527348  99.79817022  79.05116203\n",
            "  75.83950678  93.68935231 102.9875329  110.13740076  90.86193153\n",
            "  91.19008036  86.35918597 104.44435121  99.69448325  80.4773579\n",
            "  85.86696714  81.65056035 100.07157289 104.77337     99.26035164\n",
            "  92.40649434  83.59143107 107.42287275  92.30734832 104.69672805\n",
            " 100.12128802  82.21157864  91.99564574 119.15626032 114.57492314\n",
            " 103.81883094  78.76097071 102.1309464  101.41857654  83.8764524\n",
            " 105.7510923  109.29312267 121.57609003  99.32944468 103.22825892\n",
            " 106.30978542 110.61146159 106.56599943  94.70346617  79.11335284\n",
            " 103.96888319 105.20416397  82.91873851 125.74216974  88.27829279\n",
            " 107.18841831  99.19031054 115.80236464 124.86584062  89.52982221\n",
            " 116.86477053  74.81944298  92.92251554 130.65995495 120.29138675\n",
            "  86.51934919  95.22600801 102.89396272  97.63469659 110.71317963\n",
            "  79.5234062   99.86616889 100.10263551 102.90324834 108.30855012\n",
            " 104.18286871 101.98633297 110.64049389  96.52648318 107.99723177\n",
            " 126.30070476  68.89579637 106.78157267  98.32398588 116.00626411\n",
            "  94.9464112   96.94471821  92.39429908 106.78930163 114.48903957\n",
            " 101.75398149 104.36090192  93.6826815   78.22979472 111.05595964\n",
            "  94.45324825  87.19982148 116.73054651  75.14020728 103.97171726\n",
            " 112.77758472  86.92067245  92.49741368  96.47167103  98.93402047\n",
            "  96.50960667 104.1597123   97.04082907 108.21020605 135.24369507\n",
            " 103.64420246 100.03708164 132.41204579 109.8373435  108.33291698\n",
            " 108.61462772  86.24637324 104.27192444 100.98440356  88.36156671\n",
            " 124.91438746 113.41557557 109.29089409  83.54134391 120.07256894\n",
            "  98.01009253  70.62341443  98.18835604 130.7244585   84.20666876\n",
            " 106.16182033  74.88865305  76.30798954  96.49692812  87.70308377\n",
            "  82.59169274 122.27084704  93.76458363 142.64335049  70.8700444\n",
            "  93.79456745  98.59832936 119.26482363 126.1886886   99.53497156\n",
            "  82.27518234  92.64236135 112.00684838 136.40509149 100.45074574\n",
            " 110.46453814  89.90262083  84.57511509 102.79771562  77.58295016\n",
            "  93.3068853  105.07368041 120.57467526  85.95981411 114.7794126\n",
            "  95.19955938  93.68536668  77.62342377  86.319484    88.18970919\n",
            " 111.44730938 112.53791578 101.71824654 127.83936748 132.55685066\n",
            "  63.45434376  71.15635506 106.71096984 111.43361952  92.3387221\n",
            "  89.10084082  92.80553224  88.03492059 103.12548747 102.33354855\n",
            "  97.12029834 100.01588005 141.80126334 118.16705672  95.22629225\n",
            "  97.86392883 106.1047001   89.70916702 126.87827415  88.94799608\n",
            "  91.85407027 106.30931327 108.58259964  97.1146006  103.4425761\n",
            " 104.18762658 113.67029954 101.86020024  96.92969031 106.00368414\n",
            " 102.88322711 101.41040798  94.96755185 104.00806243  99.9598182\n",
            " 108.86853969 113.10158608  90.51472877  95.09347194  84.69767694\n",
            " 111.11941266 114.02106215 117.69720049  83.77341514  94.33408574\n",
            " 115.93945672 109.04684631 118.06118666  87.26620345 101.44814048\n",
            "  98.80881318  85.12606533 101.77414423 107.76883426 105.49369051\n",
            "  70.67478002  80.64605303 112.47756463 125.16163794 128.35957998\n",
            "  99.37710468  96.93078251 104.78200152 128.15792101 104.43635534\n",
            "  98.92642312 110.61601162 104.03049796  76.51341582  98.09192705\n",
            " 116.3025873  109.55103715 108.61625196 119.22812054  83.26216332\n",
            "  97.98751383  86.96714028 107.98110993  66.59608429  68.90466397\n",
            " 109.23251093  92.19069615 129.64880728  87.13907835 110.14602565\n",
            " 114.21606049  94.07012491 100.70820817 112.59486287  85.79200932\n",
            "  75.96820657  89.56543565 102.33599754  97.70066607 105.60599226\n",
            "  95.87650463  97.19395524  75.5557029  109.57549142 110.91119637\n",
            " 113.77230495 109.62923071  75.42375409 142.95306425 122.40033167\n",
            "  77.68209433 135.34473391  98.25012076  98.48447763 122.18258263\n",
            " 124.73788711 117.99594944  98.5090519  104.39130576  86.71623431\n",
            "  98.99531194 115.74665143 121.55517839  99.69878739 103.02546361\n",
            "  89.74716722  87.35351991 115.46850413  85.32273181  96.01675612\n",
            " 109.73910928  99.16880685  91.14514375  83.77698859  88.25530418\n",
            " 104.03422827  84.54371446 106.32706048 139.44623014 102.16311185\n",
            "  73.69062135  87.97284853 103.54468996 108.3343104  110.90240859\n",
            "  68.2122093  114.77519655  98.90919466  97.52824572 123.82651677\n",
            "  97.91859447 114.38465962 100.5698525   92.64028743 116.82039722\n",
            "  93.7324875  112.10487869 103.12213048 111.59956276  97.30584916\n",
            "  83.74644857  99.7430321  118.21192119 130.54860648  80.24401634\n",
            "  91.4628757  102.11441945  70.45982315  73.99268453  99.01957291\n",
            "  91.14156823 102.75288794  99.0671309   87.21585702  82.97579731\n",
            "  92.56025749  70.69669488 116.13151978 118.2760412   79.1237171\n",
            "  80.22349705 124.10991685  79.72281345 111.17672513 117.54367668\n",
            " 106.56013452  97.3883196  116.31889666  93.91302149 138.20015534\n",
            " 120.79161332  96.17088727 108.51312239 104.15391815  67.2007055\n",
            "  77.13551008  96.00772577  97.42097539 111.15313254  97.79197832\n",
            " 100.98106358  81.04761923 103.92984236  80.88656578 123.28757724\n",
            "  61.31107664 106.2140042  113.09756615 101.81065724  83.94198921\n",
            "  86.83135447  97.48552794 107.7935377  105.05175322  92.03791269\n",
            "  92.3081005   87.92370514 106.25596495 115.46030633 120.87815896\n",
            "  72.28990228  98.86614399 110.29349789 102.41058345 101.82620502\n",
            " 104.97470282  95.83421061 119.2771325  107.54214309  99.70793314\n",
            " 107.33889943  93.65328986  94.80900615 112.17036163 107.25982268\n",
            " 123.98674301  85.71134527 101.59693345  84.45205989 112.89164144\n",
            " 105.07718588  97.07872808  97.37735009 127.85960378  81.37830546\n",
            "  84.20233433 120.91572473  83.41053843  91.7073938  103.51945578\n",
            "  86.11723279  96.68425277  87.02798512 105.20495448 116.64096007\n",
            " 105.87666509 107.06940739  92.60743835  65.22732119  80.83757402\n",
            "  89.667091   113.27983644 103.80795026  66.67497478 109.63325101\n",
            " 108.92342451  96.44094952  77.32611842 109.05873281 115.85844167\n",
            " 105.60552194  90.73012317 109.77075571 107.28463513  92.86367071\n",
            "  96.69557786  72.15468016  98.42620857 100.76003727 108.42509153\n",
            "  95.20348702 112.41526328 120.42925063  95.85643473  74.40572162\n",
            "  88.28351193 117.40139249 125.81060307 106.43936663  97.86991079\n",
            "  92.5235313  121.16521425 117.11792307 125.66825205  95.70039608\n",
            " 112.52093751  97.95769757 115.75229516  83.99982098 116.5557931\n",
            "  90.40272999 101.1102655  103.20784191 110.05597881  86.67219357\n",
            " 109.92347562 112.49971942 106.9643263   86.10194055 101.8455149\n",
            "  64.74237706 114.7076158  110.77059198  96.70001198 105.12030248\n",
            " 111.98869818  88.61104265 114.41109924 104.97272369  90.57337834\n",
            " 116.34657894 105.69486983 127.28092639  96.4386169   83.10113712\n",
            "  78.28230687  91.32568068  89.7124724   91.84896534 103.68422197\n",
            " 108.39688781 117.10999086 109.75825716  78.57328011  92.82310295\n",
            " 112.84867099  70.37839098  80.19054883  93.34979982  88.80185956\n",
            " 111.1210235  134.67698375 113.99743078 109.20990101  91.16019052\n",
            " 108.5218287  104.49492522  83.01518136 105.55465973 101.00379271\n",
            "  64.68629297  89.35515718 100.85212269  91.77396975  89.60075899\n",
            " 110.8821323   85.92468523 141.93334834  88.62672209  88.79041008\n",
            " 100.31734967 106.0314371   90.7369296   98.13736807  98.23924643\n",
            "  93.62605035  91.96265785 118.54311777 109.26740388 106.72451736\n",
            "  91.4962207   84.27033033 108.45768814  84.43110833  88.50488258\n",
            " 104.92800959  64.42646781 100.59986412 107.06770288  87.56697193\n",
            " 121.60214781 102.28524766 114.01072903  89.10948327  78.83678726\n",
            " 107.34292356  87.30213118  94.14269074  72.72427575 101.54805106\n",
            "  74.98046545 101.40779444 120.42642464 112.66671954 112.62919368\n",
            " 114.53551504  74.52923372 108.3299934   64.96408415 108.16280279\n",
            "  89.82467189 113.68190074  65.78588298  89.47021861  96.40867858\n",
            " 116.91507104 110.88443045 103.56779234 100.93665185 102.84588031\n",
            " 120.83695481 128.26118703  82.77529564  86.7024579  105.29474325\n",
            "  70.95141876  99.28679951 111.7178723  132.92726541  83.32901728\n",
            "  98.27267768  95.71819353  80.59242321 103.51001459 104.16693971\n",
            "  89.32622566  94.82631365  97.39408367  81.68685599 103.84186492\n",
            " 120.20387027 103.01687291 117.86456329 101.49420974  88.95351251\n",
            "  81.89320709  95.95166533 116.59578825 100.05606616 129.16576054\n",
            "  78.475805    89.03386016 108.20356846 105.68543252  80.70285877\n",
            "  65.35555452 105.11104556  91.05073359 107.73003391 126.43762229\n",
            " 112.47736192  87.57478099  85.13009353  96.60209036 113.84157557\n",
            "  91.68498518 100.90011633 102.87972427  94.54730678 129.07286961\n",
            "  69.62241688  98.67033933  86.49720388 123.48905341 112.37634378\n",
            " 109.18337013 104.250531    97.98479151 129.60453915 132.47567196\n",
            "  70.89930653  90.86690721 111.04924617  72.89804041  80.56944692\n",
            "  75.62506148 105.37465594  78.81088715 124.82766391  90.11602367\n",
            "  82.51415578  52.84438064  94.54388983 103.7356046   63.79533353\n",
            "  89.96057951  89.04334854 117.14263908  80.32557366  77.88930363\n",
            "  98.56157185  97.11823397  98.00145751 106.5964586   99.72737266\n",
            "  95.7690054  101.01680517 111.53559921  88.26851559  98.51855241\n",
            "  99.16674431  95.20548501  72.5568498  123.42019855 102.07143455\n",
            "  95.79638781  83.23678857 117.96778048 102.34955001  82.50409984\n",
            " 104.31600041 106.9498573  113.56989931  92.92352346 117.10180797\n",
            "  99.48358735  82.32166073  97.07315368 101.17181285  86.51348671\n",
            "  71.2832364  112.38454003 112.31601786 107.5386126   95.7008099\n",
            "  43.89438422 108.66432568  81.1240349  111.61539044  63.3391916\n",
            "  83.80456288 107.33091787  94.62204052  95.50921405  73.91188271\n",
            " 114.64170093 126.13311656  88.2939731  125.51227362  89.0456733\n",
            "  70.19305393 109.49625281  92.45600268  90.6943236   77.33064929\n",
            "  78.3330381   99.27546907 101.10387899  99.7382213  127.65650983\n",
            " 103.51161996  89.52326602  98.36329296 124.13961671  76.48911572\n",
            " 114.56433074 135.96041835  92.78896464  96.8637162   97.7082101\n",
            " 102.43234003  79.37642002 102.28881938 100.51586589  77.0881726\n",
            "  90.7312043   96.62074091 102.90711929 123.24586216  78.23587761\n",
            "  98.39018439 100.42947762 119.6974993  119.61423215 127.07947755\n",
            " 116.79052254  79.40882973 101.72426921  84.9810092   86.6323578\n",
            " 112.01923967  75.79150893 108.35188802  69.74467558 105.15559103\n",
            "  95.24902886 100.64791044 120.10506304  85.2092122  101.1209546 ]\n"
          ]
        }
      ]
    },
    {
      "cell_type": "markdown",
      "metadata": {
        "id": "CDF8m3a4IYOC"
      },
      "source": [
        "Compute the **mean**, **median**, and **mode**"
      ]
    },
    {
      "cell_type": "code",
      "metadata": {
        "id": "ZKbeqxaKIoNs",
        "colab": {
          "base_uri": "https://localhost:8080/"
        },
        "outputId": "54252df1-ec59-477d-9b13-a4ef109eeae5"
      },
      "source": [
        "mean_samples = np.mean(samples)\n",
        "print(\"mean:\", mean_samples)\n",
        "\n",
        "median_samples = np.median(samples)\n",
        "print(\"median:\", median_samples)\n",
        "\n",
        "mode_samples = stats.mode(samples)\n",
        "print(\"mode:\", mode_samples)"
      ],
      "execution_count": null,
      "outputs": [
        {
          "output_type": "stream",
          "name": "stdout",
          "text": [
            "mean: 100.19900327526351\n",
            "median: 99.9649078939567\n",
            "mode: ModeResult(mode=array([54.53572279]), count=array([1]))\n"
          ]
        }
      ]
    },
    {
      "cell_type": "markdown",
      "metadata": {
        "id": "skT8m39XI60w"
      },
      "source": [
        "Compute the **min**, **max**, **Q1**, **Q3**, and **interquartile range**"
      ]
    },
    {
      "cell_type": "code",
      "metadata": {
        "id": "VaiDphm8It0O",
        "colab": {
          "base_uri": "https://localhost:8080/"
        },
        "outputId": "accf4927-7166-4501-fd99-fd812c6bda3d"
      },
      "source": [
        "min = np.min(samples) \n",
        "print(min)\n",
        "\n",
        "max = np.max(samples)\n",
        "print(max)\n",
        "\n",
        "q1 = np.percentile(samples, 25)\n",
        "print(q1)\n",
        "\n",
        "q3 = np.percentile(samples, 75)\n",
        "print(q3\n",
        "      )\n",
        "iqr = stats.iqr(samples)\n",
        "print(iqr)"
      ],
      "execution_count": null,
      "outputs": [
        {
          "output_type": "stream",
          "name": "stdout",
          "text": [
            "54.53572279228364\n",
            "148.3238738501051\n",
            "89.4359700239746\n",
            "110.71309073308645\n",
            "21.27712070911184\n"
          ]
        }
      ]
    },
    {
      "cell_type": "markdown",
      "metadata": {
        "id": "m53Dv3n5JHQi"
      },
      "source": [
        "Compute the **variance** and **standard deviation**"
      ]
    },
    {
      "cell_type": "code",
      "metadata": {
        "id": "6JFaAYdrJbeN",
        "colab": {
          "base_uri": "https://localhost:8080/"
        },
        "outputId": "786d9640-5469-42a2-ab7b-199ecd091335"
      },
      "source": [
        "variance = np.var(samples)\n",
        "print(variance)\n",
        "\n",
        "std_dev = np.std(samples)\n",
        "print(std_dev)"
      ],
      "execution_count": null,
      "outputs": [
        {
          "output_type": "stream",
          "name": "stdout",
          "text": [
            "231.4127894529708\n",
            "15.21225786834324\n"
          ]
        }
      ]
    },
    {
      "cell_type": "markdown",
      "metadata": {
        "id": "5eup4hI1JzqX"
      },
      "source": [
        "Compute the **skewness** and **kurtosis**\n",
        "\n",
        "You can use [`scipy.stats.skew`](https://docs.scipy.org/doc/scipy/reference/generated/scipy.stats.skew.html) and [`scipy.stats.kurtosis`](https://docs.scipy.org/doc/scipy/reference/generated/scipy.stats.kurtosis.html)"
      ]
    },
    {
      "cell_type": "code",
      "metadata": {
        "id": "YO3obyDnJ3_D",
        "colab": {
          "base_uri": "https://localhost:8080/"
        },
        "outputId": "c830d0fd-aff4-4258-8c8c-43aa6a97f37b"
      },
      "source": [
        "from scipy.stats import skew\n",
        "skewness = stats.skew(samples)\n",
        "print(skewness)\n",
        "\n",
        "from scipy.stats import kurtosis\n",
        "kurtosis = stats.kurtosis(samples)\n",
        "print(kurtosis)\n"
      ],
      "execution_count": null,
      "outputs": [
        {
          "output_type": "stream",
          "name": "stdout",
          "text": [
            "0.09635909878217645\n",
            "-0.0941693972196953\n"
          ]
        }
      ]
    },
    {
      "cell_type": "markdown",
      "metadata": {
        "id": "a5UNc8PUKnbU"
      },
      "source": [
        "## NumPy Correlation Calculation"
      ]
    },
    {
      "cell_type": "markdown",
      "metadata": {
        "id": "cLiqxE1CMNTg"
      },
      "source": [
        "Create an array x of integers between 10 (inclusive) and 20 (exclusive). Use `np.arange()`"
      ]
    },
    {
      "cell_type": "code",
      "metadata": {
        "id": "5LAaQ6w5L-2L",
        "colab": {
          "base_uri": "https://localhost:8080/"
        },
        "outputId": "fe22fa82-39b3-42f5-d67a-e67b16b24c66"
      },
      "source": [
        "x = np.arange(10, 20)\n",
        "print(x)"
      ],
      "execution_count": null,
      "outputs": [
        {
          "output_type": "stream",
          "name": "stdout",
          "text": [
            "[10 11 12 13 14 15 16 17 18 19]\n"
          ]
        }
      ]
    },
    {
      "cell_type": "markdown",
      "metadata": {
        "id": "qyCIaukNMZPf"
      },
      "source": [
        "Then use `np.array()` to create a second array y containing 10 arbitrary integers."
      ]
    },
    {
      "cell_type": "code",
      "metadata": {
        "id": "p27eW__gNMdh",
        "colab": {
          "base_uri": "https://localhost:8080/"
        },
        "outputId": "9b37c970-7140-4104-a60a-101e5c2e71bc"
      },
      "source": [
        "numbers = [0, 1, 2, 3, 4, 5, 6, 7, 8, 9]\n",
        "y = np.array(numbers, dtype= int)\n",
        "print(y)"
      ],
      "execution_count": null,
      "outputs": [
        {
          "output_type": "stream",
          "name": "stdout",
          "text": [
            "[0 1 2 3 4 5 6 7 8 9]\n"
          ]
        }
      ]
    },
    {
      "cell_type": "markdown",
      "metadata": {
        "id": "Kh_VeKwINSqS"
      },
      "source": [
        "Once you have two arrays of the same length, you can compute the **correlation coefficient** between x and y"
      ]
    },
    {
      "cell_type": "code",
      "metadata": {
        "id": "yrtC6rPkNSDC",
        "colab": {
          "base_uri": "https://localhost:8080/"
        },
        "outputId": "3c2fff6d-58eb-4cb6-aaff-48ccaff1e612"
      },
      "source": [
        "r = np.cov(x, y)\n",
        "print(r)"
      ],
      "execution_count": null,
      "outputs": [
        {
          "output_type": "stream",
          "name": "stdout",
          "text": [
            "[[9.16666667 9.16666667]\n",
            " [9.16666667 9.16666667]]\n"
          ]
        }
      ]
    },
    {
      "cell_type": "markdown",
      "metadata": {
        "id": "vXieLjYiNtPi"
      },
      "source": [
        "## Pandas Correlation Calculation"
      ]
    },
    {
      "cell_type": "markdown",
      "metadata": {
        "id": "z56t0k0qNvkr"
      },
      "source": [
        "Run the code below"
      ]
    },
    {
      "cell_type": "code",
      "metadata": {
        "id": "9AVBMJCyNuwb",
        "colab": {
          "base_uri": "https://localhost:8080/"
        },
        "outputId": "ca2e59ca-2b78-4b14-c68b-90aae11a91fe"
      },
      "source": [
        "import pandas as pd\n",
        "import seaborn as sns \n",
        "\n",
        "x = pd.Series(range(10, 20))\n",
        "y = pd.Series([2, 1, 4, 5, 8, 12, 18, 25, 96, 48])\n",
        "print(x, y)"
      ],
      "execution_count": 3,
      "outputs": [
        {
          "output_type": "stream",
          "name": "stdout",
          "text": [
            "0    10\n",
            "1    11\n",
            "2    12\n",
            "3    13\n",
            "4    14\n",
            "5    15\n",
            "6    16\n",
            "7    17\n",
            "8    18\n",
            "9    19\n",
            "dtype: int64 0     2\n",
            "1     1\n",
            "2     4\n",
            "3     5\n",
            "4     8\n",
            "5    12\n",
            "6    18\n",
            "7    25\n",
            "8    96\n",
            "9    48\n",
            "dtype: int64\n"
          ]
        }
      ]
    },
    {
      "cell_type": "markdown",
      "metadata": {
        "id": "ZajVXYe2OCih"
      },
      "source": [
        "Call the relevant method  to calculate Pearson's r correlation."
      ]
    },
    {
      "cell_type": "code",
      "metadata": {
        "id": "Ak_rkzbLOafj",
        "colab": {
          "base_uri": "https://localhost:8080/"
        },
        "outputId": "ced7dd87-5e3b-4a76-824e-5147bcee2046"
      },
      "source": [
        "import scipy.stats as stats\n",
        "r = stats.pearsonr(x, y)\n",
        "print(r)"
      ],
      "execution_count": 5,
      "outputs": [
        {
          "output_type": "stream",
          "name": "stdout",
          "text": [
            "(0.758640289091187, 0.010964341301680813)\n"
          ]
        }
      ]
    },
    {
      "cell_type": "markdown",
      "metadata": {
        "id": "1CygSbnROb9V"
      },
      "source": [
        "OPTIONAL. Call the relevant method to calculate Spearman's rho correlation."
      ]
    },
    {
      "cell_type": "code",
      "metadata": {
        "id": "xp_QkXwmOlYY",
        "colab": {
          "base_uri": "https://localhost:8080/"
        },
        "outputId": "5f53e365-55eb-4b13-b656-260ea2a8a3a6"
      },
      "source": [
        "rho = stats.spearmanr(x, y)\n",
        "print(rho)"
      ],
      "execution_count": 6,
      "outputs": [
        {
          "output_type": "stream",
          "name": "stdout",
          "text": [
            "SpearmanrResult(correlation=0.9757575757575757, pvalue=1.4675461874042197e-06)\n"
          ]
        }
      ]
    },
    {
      "cell_type": "markdown",
      "metadata": {
        "id": "we7pg7kdOo7y"
      },
      "source": [
        "## Seaborn Dataset Tips"
      ]
    },
    {
      "cell_type": "markdown",
      "metadata": {
        "id": "VlzgFKN7OvqX"
      },
      "source": [
        "Import Seaborn Library"
      ]
    },
    {
      "cell_type": "code",
      "metadata": {
        "id": "t-49JRRqO4pw"
      },
      "source": [
        "import seaborn as sns\n",
        "import numpy as np\n",
        "import matplotlib.pyplot as plt\n"
      ],
      "execution_count": 19,
      "outputs": []
    },
    {
      "cell_type": "markdown",
      "metadata": {
        "id": "0INVBB4tO4y4"
      },
      "source": [
        "Load \"tips\" dataset from Seaborn"
      ]
    },
    {
      "cell_type": "code",
      "metadata": {
        "id": "kieLvcM1PBv7",
        "colab": {
          "base_uri": "https://localhost:8080/"
        },
        "outputId": "e4a1651b-94fc-4d0e-ec6d-1cd0eb56b7c4"
      },
      "source": [
        "tips = sns.load_dataset(\"tips\")\n",
        "print(tips)"
      ],
      "execution_count": 8,
      "outputs": [
        {
          "output_type": "stream",
          "name": "stdout",
          "text": [
            "     total_bill   tip     sex smoker   day    time  size\n",
            "0         16.99  1.01  Female     No   Sun  Dinner     2\n",
            "1         10.34  1.66    Male     No   Sun  Dinner     3\n",
            "2         21.01  3.50    Male     No   Sun  Dinner     3\n",
            "3         23.68  3.31    Male     No   Sun  Dinner     2\n",
            "4         24.59  3.61  Female     No   Sun  Dinner     4\n",
            "..          ...   ...     ...    ...   ...     ...   ...\n",
            "239       29.03  5.92    Male     No   Sat  Dinner     3\n",
            "240       27.18  2.00  Female    Yes   Sat  Dinner     2\n",
            "241       22.67  2.00    Male    Yes   Sat  Dinner     2\n",
            "242       17.82  1.75    Male     No   Sat  Dinner     2\n",
            "243       18.78  3.00  Female     No  Thur  Dinner     2\n",
            "\n",
            "[244 rows x 7 columns]\n"
          ]
        }
      ]
    },
    {
      "cell_type": "markdown",
      "metadata": {
        "id": "o2ISqVQrPh5S"
      },
      "source": [
        "Generate descriptive statistics include those that summarize the central tendency, dispersion"
      ]
    },
    {
      "cell_type": "code",
      "metadata": {
        "id": "FyFvmdbJPVg6",
        "colab": {
          "base_uri": "https://localhost:8080/",
          "height": 369
        },
        "outputId": "0e3b8ff4-e448-4a13-9e46-591b6bd07451"
      },
      "source": [
        "sns.lmplot(x=\"size\", y=\"tip\", data=tips, x_estimator=np.mean);\n",
        "\n"
      ],
      "execution_count": 20,
      "outputs": [
        {
          "output_type": "display_data",
          "data": {
            "text/plain": [
              "<Figure size 360x360 with 1 Axes>"
            ],
            "image/png": "[encoded data removed]"
          },
          "metadata": {
            "needs_background": "light"
          }
        }
      ]
    },
    {
      "cell_type": "code",
      "source": [
        "sns.lmplot(x=\"size\", y=\"tip\", data=tips, x_estimator=np.median);\n",
        "\n"
      ],
      "metadata": {
        "colab": {
          "base_uri": "https://localhost:8080/",
          "height": 369
        },
        "id": "h4McRjsPpHeF",
        "outputId": "ba84b27a-6929-403f-aec8-ac90945be1d0"
      },
      "execution_count": 21,
      "outputs": [
        {
          "output_type": "display_data",
          "data": {
            "text/plain": [
              "<Figure size 360x360 with 1 Axes>"
            ],
            "image/png": "[encoded data removed]"
          },
          "metadata": {
            "needs_background": "light"
          }
        }
      ]
    },
    {
      "cell_type": "code",
      "source": [
        "sns.lmplot(x=\"size\", y=\"tip\", data=tips, x_estimator=np.std);"
      ],
      "metadata": {
        "colab": {
          "base_uri": "https://localhost:8080/",
          "height": 369
        },
        "id": "Rdk1OEhupHv0",
        "outputId": "4246ab1c-b2e7-429b-fecb-a3817811eeb4"
      },
      "execution_count": 24,
      "outputs": [
        {
          "output_type": "display_data",
          "data": {
            "text/plain": [
              "<Figure size 360x360 with 1 Axes>"
            ],
            "image/png": "[encoded data removed]"
          },
          "metadata": {
            "needs_background": "light"
          }
        }
      ]
    },
    {
      "cell_type": "code",
      "source": [
        "sns.lmplot(x=\"size\", y=\"tip\", data=tips, x_estimator=np.var);"
      ],
      "metadata": {
        "colab": {
          "base_uri": "https://localhost:8080/",
          "height": 369
        },
        "id": "Afyz8igmq_sv",
        "outputId": "03809c7f-d2d3-4ff2-fa6e-19a241ae4575"
      },
      "execution_count": 26,
      "outputs": [
        {
          "output_type": "display_data",
          "data": {
            "text/plain": [
              "<Figure size 360x360 with 1 Axes>"
            ],
            "image/png": "[encoded data removed]"
          },
          "metadata": {
            "needs_background": "light"
          }
        }
      ]
    },
    {
      "cell_type": "code",
      "source": [
        "sns.lmplot(x=\"size\", y=\"tip\", data=tips, x_estimator=np.min);"
      ],
      "metadata": {
        "colab": {
          "base_uri": "https://localhost:8080/",
          "height": 369
        },
        "id": "1WF7UZBKrP_g",
        "outputId": "fb6ef9ad-653c-4aa4-d4e6-078e76f77878"
      },
      "execution_count": 27,
      "outputs": [
        {
          "output_type": "display_data",
          "data": {
            "text/plain": [
              "<Figure size 360x360 with 1 Axes>"
            ],
            "image/png": "[encoded data removed]"
          },
          "metadata": {
            "needs_background": "light"
          }
        }
      ]
    },
    {
      "cell_type": "code",
      "source": [
        "sns.lmplot(x=\"size\", y=\"tip\", data=tips, x_estimator=np.max);"
      ],
      "metadata": {
        "colab": {
          "base_uri": "https://localhost:8080/",
          "height": 369
        },
        "id": "1301JZRFrQIp",
        "outputId": "97442562-0a09-46ac-f51a-df7d990f384a"
      },
      "execution_count": 28,
      "outputs": [
        {
          "output_type": "display_data",
          "data": {
            "text/plain": [
              "<Figure size 360x360 with 1 Axes>"
            ],
            "image/png": "[encoded data removed]"
          },
          "metadata": {
            "needs_background": "light"
          }
        }
      ]
    },
    {
      "cell_type": "code",
      "source": [
        "sns.lmplot(x=\"size\", y=\"tip\", data=tips, x_estimator=stats.kurtosis);"
      ],
      "metadata": {
        "colab": {
          "base_uri": "https://localhost:8080/",
          "height": 369
        },
        "id": "33b1jhahrZjg",
        "outputId": "4833738d-4469-4ed4-a983-fedfdf26b952"
      },
      "execution_count": 29,
      "outputs": [
        {
          "output_type": "display_data",
          "data": {
            "text/plain": [
              "<Figure size 360x360 with 1 Axes>"
            ],
            "image/png": "[encoded data removed]"
          },
          "metadata": {
            "needs_background": "light"
          }
        }
      ]
    },
    {
      "cell_type": "code",
      "source": [
        "sns.lmplot(x=\"size\", y=\"tip\", data=tips, x_estimator=stats.skew);"
      ],
      "metadata": {
        "colab": {
          "base_uri": "https://localhost:8080/",
          "height": 369
        },
        "id": "KDqo_V0ArZwU",
        "outputId": "bfc155f6-70b7-4670-b293-a6685733da09"
      },
      "execution_count": 30,
      "outputs": [
        {
          "output_type": "display_data",
          "data": {
            "text/plain": [
              "<Figure size 360x360 with 1 Axes>"
            ],
            "image/png": "[encoded data removed]"
          },
          "metadata": {
            "needs_background": "light"
          }
        }
      ]
    },
    {
      "cell_type": "markdown",
      "metadata": {
        "id": "3yCRK4VJPzRo"
      },
      "source": [
        "Call the relevant method to calculate pairwise Pearson's r correlation of columns"
      ]
    },
    {
      "cell_type": "code",
      "source": [
        "import pandas as pd\n",
        "import numpy as np\n",
        "import matplotlib.pyplot as plt\n",
        "import seaborn as sns"
      ],
      "metadata": {
        "id": "4PbFm5vvq8bW"
      },
      "execution_count": 34,
      "outputs": []
    },
    {
      "cell_type": "code",
      "source": [
        "tips.corr()"
      ],
      "metadata": {
        "colab": {
          "base_uri": "https://localhost:8080/",
          "height": 143
        },
        "id": "AyTvo5Z4tKxc",
        "outputId": "3570616f-e71b-4ad2-f9e0-e59e4c3e6119"
      },
      "execution_count": 39,
      "outputs": [
        {
          "output_type": "execute_result",
          "data": {
            "text/plain": [
              "            total_bill       tip      size\n",
              "total_bill    1.000000  0.675734  0.598315\n",
              "tip           0.675734  1.000000  0.489299\n",
              "size          0.598315  0.489299  1.000000"
            ],
            "text/html": [
              "\n",
              "  <div id=\"df-a7501f93-acb7-428a-8602-4c08c85219dc\">\n",
              "    <div class=\"colab-df-container\">\n",
              "      <div>\n",
              "<style scoped>\n",
              "    .dataframe tbody tr th:only-of-type {\n",
              "        vertical-align: middle;\n",
              "    }\n",
              "\n",
              "    .dataframe tbody tr th {\n",
              "        vertical-align: top;\n",
              "    }\n",
              "\n",
              "    .dataframe thead th {\n",
              "        text-align: right;\n",
              "    }\n",
              "</style>\n",
              "<table border=\"1\" class=\"dataframe\">\n",
              "  <thead>\n",
              "    <tr style=\"text-align: right;\">\n",
              "      <th></th>\n",
              "      <th>total_bill</th>\n",
              "      <th>tip</th>\n",
              "      <th>size</th>\n",
              "    </tr>\n",
              "  </thead>\n",
              "  <tbody>\n",
              "    <tr>\n",
              "      <th>total_bill</th>\n",
              "      <td>1.000000</td>\n",
              "      <td>0.675734</td>\n",
              "      <td>0.598315</td>\n",
              "    </tr>\n",
              "    <tr>\n",
              "      <th>tip</th>\n",
              "      <td>0.675734</td>\n",
              "      <td>1.000000</td>\n",
              "      <td>0.489299</td>\n",
              "    </tr>\n",
              "    <tr>\n",
              "      <th>size</th>\n",
              "      <td>0.598315</td>\n",
              "      <td>0.489299</td>\n",
              "      <td>1.000000</td>\n",
              "    </tr>\n",
              "  </tbody>\n",
              "</table>\n",
              "</div>\n",
              "      <button class=\"colab-df-convert\" onclick=\"convertToInteractive('df-a7501f93-acb7-428a-8602-4c08c85219dc')\"\n",
              "              title=\"Convert this dataframe to an interactive table.\"\n",
              "              style=\"display:none;\">\n",
              "        \n",
              "  <svg xmlns=\"http://www.w3.org/2000/svg\" height=\"24px\"viewBox=\"0 0 24 24\"\n",
              "       width=\"24px\">\n",
              "    <path d=\"M0 0h24v24H0V0z\" fill=\"none\"/>\n",
              "    <path d=\"M18.56 5.44l.94 2.06.94-2.06 2.06-.94-2.06-.94-.94-2.06-.94 2.06-2.06.94zm-11 1L8.5 8.5l.94-2.06 2.06-.94-2.06-.94L8.5 2.5l-.94 2.06-2.06.94zm10 10l.94 2.06.94-2.06 2.06-.94-2.06-.94-.94-2.06-.94 2.06-2.06.94z\"/><path d=\"M17.41 7.96l-1.37-1.37c-.4-.4-.92-.59-1.43-.59-.52 0-1.04.2-1.43.59L10.3 9.45l-7.72 7.72c-.78.78-.78 2.05 0 2.83L4 21.41c.39.39.9.59 1.41.59.51 0 1.02-.2 1.41-.59l7.78-7.78 2.81-2.81c.8-.78.8-2.07 0-2.86zM5.41 20L4 18.59l7.72-7.72 1.47 1.35L5.41 20z\"/>\n",
              "  </svg>\n",
              "      </button>\n",
              "      \n",
              "  <style>\n",
              "    .colab-df-container {\n",
              "      display:flex;\n",
              "      flex-wrap:wrap;\n",
              "      gap: 12px;\n",
              "    }\n",
              "\n",
              "    .colab-df-convert {\n",
              "      background-color: #E8F0FE;\n",
              "      border: none;\n",
              "      border-radius: 50%;\n",
              "      cursor: pointer;\n",
              "      display: none;\n",
              "      fill: #1967D2;\n",
              "      height: 32px;\n",
              "      padding: 0 0 0 0;\n",
              "      width: 32px;\n",
              "    }\n",
              "\n",
              "    .colab-df-convert:hover {\n",
              "      background-color: #E2EBFA;\n",
              "      box-shadow: 0px 1px 2px rgba(60, 64, 67, 0.3), 0px 1px 3px 1px rgba(60, 64, 67, 0.15);\n",
              "      fill: #174EA6;\n",
              "    }\n",
              "\n",
              "    [theme=dark] .colab-df-convert {\n",
              "      background-color: #3B4455;\n",
              "      fill: #D2E3FC;\n",
              "    }\n",
              "\n",
              "    [theme=dark] .colab-df-convert:hover {\n",
              "      background-color: #434B5C;\n",
              "      box-shadow: 0px 1px 3px 1px rgba(0, 0, 0, 0.15);\n",
              "      filter: drop-shadow(0px 1px 2px rgba(0, 0, 0, 0.3));\n",
              "      fill: #FFFFFF;\n",
              "    }\n",
              "  </style>\n",
              "\n",
              "      <script>\n",
              "        const buttonEl =\n",
              "          document.querySelector('#df-a7501f93-acb7-428a-8602-4c08c85219dc button.colab-df-convert');\n",
              "        buttonEl.style.display =\n",
              "          google.colab.kernel.accessAllowed ? 'block' : 'none';\n",
              "\n",
              "        async function convertToInteractive(key) {\n",
              "          const element = document.querySelector('#df-a7501f93-acb7-428a-8602-4c08c85219dc');\n",
              "          const dataTable =\n",
              "            await google.colab.kernel.invokeFunction('convertToInteractive',\n",
              "                                                     [key], {});\n",
              "          if (!dataTable) return;\n",
              "\n",
              "          const docLinkHtml = 'Like what you see? Visit the ' +\n",
              "            '<a target=\"_blank\" href=https://colab.research.google.com/notebooks/data_table.ipynb>data table notebook</a>'\n",
              "            + ' to learn more about interactive tables.';\n",
              "          element.innerHTML = '';\n",
              "          dataTable['output_type'] = 'display_data';\n",
              "          await google.colab.output.renderOutput(dataTable, element);\n",
              "          const docLink = document.createElement('div');\n",
              "          docLink.innerHTML = docLinkHtml;\n",
              "          element.appendChild(docLink);\n",
              "        }\n",
              "      </script>\n",
              "    </div>\n",
              "  </div>\n",
              "  "
            ]
          },
          "metadata": {},
          "execution_count": 39
        }
      ]
    },
    {
      "cell_type": "code",
      "source": [
        "correlation = tips.corr()\n",
        "heatmap = sns.heatmap(correlation, annot=True, cmap=\"Blues\", fmt='.1g')\n"
      ],
      "metadata": {
        "colab": {
          "base_uri": "https://localhost:8080/",
          "height": 270
        },
        "id": "K_-D21SctSFu",
        "outputId": "a074b360-eb08-4bf7-e091-4dd7aae6c0f5"
      },
      "execution_count": 40,
      "outputs": [
        {
          "output_type": "display_data",
          "data": {
            "text/plain": [
              "<Figure size 432x288 with 2 Axes>"
            ],
            "image/png": "[encoded data removed]"
          },
          "metadata": {
            "needs_background": "light"
          }
        }
      ]
    },
    {
      "cell_type": "code",
      "source": [
        ""
      ],
      "metadata": {
        "id": "uAB1kHf_uOmk"
      },
      "execution_count": null,
      "outputs": []
    }
  ]
}